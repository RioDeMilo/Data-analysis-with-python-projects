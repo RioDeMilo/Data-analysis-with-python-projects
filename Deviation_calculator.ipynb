{
  "nbformat": 4,
  "nbformat_minor": 0,
  "metadata": {
    "colab": {
      "provenance": [],
      "authorship_tag": "ABX9TyP6hIJQOi51Ohhm++fiu99V",
      "include_colab_link": true
    },
    "kernelspec": {
      "name": "python3",
      "display_name": "Python 3"
    },
    "language_info": {
      "name": "python"
    }
  },
  "cells": [
    {
      "cell_type": "markdown",
      "metadata": {
        "id": "view-in-github",
        "colab_type": "text"
      },
      "source": [
        "<a href=\"https://colab.research.google.com/github/RioDeMilo/Data-analysis-with-python-projects/blob/main/Deviation_calculator.ipynb\" target=\"_parent\"><img src=\"https://colab.research.google.com/assets/colab-badge.svg\" alt=\"Open In Colab\"/></a>"
      ]
    },
    {
      "cell_type": "code",
      "execution_count": 1,
      "metadata": {
        "colab": {
          "base_uri": "https://localhost:8080/"
        },
        "id": "GtFcRNwS5Yhd",
        "outputId": "900c7ae9-daad-40d4-d403-6d091b0fdcaf"
      },
      "outputs": [
        {
          "output_type": "stream",
          "name": "stdout",
          "text": [
            "1.21.6\n"
          ]
        }
      ],
      "source": [
        "# Import the numpy package under the name np\n",
        "import numpy as np\n",
        "\n",
        "# Print the numpy version and the configuration\n",
        "print(np.__version__)\n",
        "\n"
      ]
    },
    {
      "cell_type": "code",
      "source": [
        "def calculate(list):# to get the list of the function i used array andd i returned error cuz the starting value it's a list\n",
        "  array =  np.array(list).reshape(3,3) #it was required for the projecto to convert a list into a numpy array in a 3,3 form\n",
        "  if len(list) == 9: #I wanted to get a if function to start the programg if the list contained 9 values else will print the code error\n",
        "    return {'mean': [array.mean(axis=0), array.mean(axis=1), array.mean()], # the return value comes from the def function \n",
        "              'Variance': [array.var(axis=0), array.var(axis=1), array.var()], # all the return value iss contained in {} to get a final result of a dictionary\n",
        "              'Standart deviation': [array.std(axis=0), array.std(axis=1), array.std()],# that's why every value conatins a index in this case strings like \"mean\" :\n",
        "              'Max': [array.max(axis=0), array.max(axis=1), array.max()], # to contain multiple results in the values of the dictionary we separate with commmas\n",
        "              'Min': [array.min(axis=0), array.min(axis=1), array.min()],\n",
        "              'Sum': [array.sum(axis=0), array.sum(axis=1), array.sum()]}\n",
        "  else : \n",
        "   return 'the list must contain 9 values' \n",
        "calculate([2,6,2,8,4,0,1,5,7])"
      ],
      "metadata": {
        "id": "_btmOViU5mU3",
        "colab": {
          "base_uri": "https://localhost:8080/"
        },
        "outputId": "1fb71f78-d7aa-424c-c630-232071555b67"
      },
      "execution_count": 2,
      "outputs": [
        {
          "output_type": "execute_result",
          "data": {
            "text/plain": [
              "{'mean': [array([3.66666667, 5.        , 3.        ]),\n",
              "  array([3.33333333, 4.        , 4.33333333]),\n",
              "  3.888888888888889],\n",
              " 'Variance': [array([9.55555556, 0.66666667, 8.66666667]),\n",
              "  array([ 3.55555556, 10.66666667,  6.22222222]),\n",
              "  6.987654320987654],\n",
              " 'Standart deviation': [array([3.09120617, 0.81649658, 2.94392029]),\n",
              "  array([1.88561808, 3.26598632, 2.49443826]),\n",
              "  2.6434171674156266],\n",
              " 'Max': [array([8, 6, 7]), array([6, 8, 7]), 8],\n",
              " 'Min': [array([1, 4, 0]), array([2, 0, 1]), 0],\n",
              " 'Sum': [array([11, 15,  9]), array([10, 12, 13]), 35]}"
            ]
          },
          "metadata": {},
          "execution_count": 2
        }
      ]
    }
  ]
}