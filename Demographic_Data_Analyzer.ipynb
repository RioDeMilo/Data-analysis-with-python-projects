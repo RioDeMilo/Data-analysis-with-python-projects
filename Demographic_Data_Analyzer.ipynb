{
  "nbformat": 4,
  "nbformat_minor": 0,
  "metadata": {
    "colab": {
      "provenance": [],
      "authorship_tag": "ABX9TyNEUC4e3HJN5DezNqzUjojM",
      "include_colab_link": true
    },
    "kernelspec": {
      "name": "python3",
      "display_name": "Python 3"
    },
    "language_info": {
      "name": "python"
    }
  },
  "cells": [
    {
      "cell_type": "markdown",
      "metadata": {
        "id": "view-in-github",
        "colab_type": "text"
      },
      "source": [
        "<a href=\"https://colab.research.google.com/github/RioDeMilo/Data-analysis-with-python-projects/blob/main/Demographic_Data_Analyzer.ipynb\" target=\"_parent\"><img src=\"https://colab.research.google.com/assets/colab-badge.svg\" alt=\"Open In Colab\"/></a>"
      ]
    },
    {
      "cell_type": "code",
      "source": [
        "import numpy as np\n",
        "import pandas as pd\n"
      ],
      "metadata": {
        "id": "G5EbF8N22AdZ"
      },
      "execution_count": 1,
      "outputs": []
    },
    {
      "cell_type": "code",
      "source": [
        "df = pd.read_csv('/content/adult.data.csv')\n",
        "\n"
      ],
      "metadata": {
        "id": "BfWoeTDD5Abo"
      },
      "execution_count": 2,
      "outputs": []
    },
    {
      "cell_type": "code",
      "execution_count": null,
      "metadata": {
        "id": "M6RwoBisqubb"
      },
      "outputs": [],
      "source": [
        "\n",
        "def calculate_demographic_data(print_data=True):\n",
        "    # Read data from file\n",
        "    df = pd.read_csv('adult.data.csv')\n",
        "\n",
        "    # How many of each race are represented in this dataset? This should be a Pandas series with race names as the index labels.\n",
        "    race_count = df['race'].value_counts()\n",
        "\n",
        "    # What is the average age of men?\n",
        "    average_age_men = (df.query(\"sex== 'Male'\")['age'].mean()).round(1)\n",
        "\n",
        "    # What is the percentage of people who have a Bachelor's degree?\n",
        "    percentage_bachelors = (df['education'].value_counts()['Bachelors'] * 100 / df['education'].count()).round(1)\n",
        "\n",
        "    # What percentage of people with advanced education (`Bachelors`, `Masters`, or `Doctorate`) make more than 50K?\n",
        "    # What percentage of people without advanced education make more than 50K?\n",
        "\n",
        "    # with and without `Bachelors`, `Masters`, or `Doctorate`\n",
        "    higher_education = df['education'].isin(['Masters','Bachelors','Doctorate'])\n",
        "    lower_education = ~higher_education\n",
        "\n",
        "    # percentage with salary >50K\n",
        "    higher_education_rich = ((((df['salary'] =='>50K') & higher_education).sum()) * 100 / higher_education.sum()).round(1)\n",
        "    lower_education_rich = ((((df['salary'] =='>50K') & lower_education).sum()) * 100 / lower_education.sum()).round(1)\n",
        "\n",
        "    # What is the minimum number of hours a person works per week (hours-per-week feature)?\n",
        "    min_work_hours = df['hours-per-week'].min()\n",
        "\n",
        "    # What percentage of the people who work the minimum number of hours per week have a salary of >50K?\n",
        "    num_min_workers = (df['hours-per-week'] ==  min_work_hours ).sum()\n",
        "\n",
        "    rich_percentage = ((((df['hours-per-week'] == min_work_hours)) & (df['salary'] == '>50K' )).sum() *100 / (df['hours-per-week'] == min_work_hours ).sum())\n",
        "\n",
        "    # What country has the highest percentage of people that earn >50K?\n",
        "    high_income_co = (df.groupby('native-country')['salary'].apply(lambda x: (x=='>50K').mean()))\n",
        "    highest_earning_country = high_income_co.idxmax()\n",
        "    highest_earning_country_percentage = highest_earning_country_percentage = (high_income_co.max() * 100).round(1)\n",
        "    # Identify the most popular occupation for those who earn >50K in India.\n",
        "    top_IN_occupation = df[(df['salary'] == '>50K') & (df['native-country'] == 'India')].value_counts('occupation').idxmax()\n",
        "\n",
        "    # DO NOT MODIFY BELOW THIS LINE\n",
        "\n",
        "    if print_data:\n",
        "        print(\"Number of each race:\\n\", race_count) \n",
        "        print(\"Average age of men:\", average_age_men)\n",
        "        print(f\"Percentage with Bachelors degrees: {percentage_bachelors}%\")\n",
        "        print(f\"Percentage with higher education that earn >50K: {higher_education_rich}%\")\n",
        "        print(f\"Percentage without higher education that earn >50K: {lower_education_rich}%\")\n",
        "        print(f\"Min work time: {min_work_hours} hours/week\")\n",
        "        print(f\"Percentage of rich among those who work fewest hours: {rich_percentage}%\")\n",
        "        print(\"Country with highest percentage of rich:\", highest_earning_country)\n",
        "        print(f\"Highest percentage of rich people in country: {highest_earning_country_percentage}%\")\n",
        "        print(\"Top occupations in India:\", top_IN_occupation)\n",
        "\n",
        "    return {\n",
        "        'race_count': race_count,\n",
        "        'average_age_men': average_age_men,\n",
        "        'percentage_bachelors': percentage_bachelors,\n",
        "        'higher_education_rich': higher_education_rich,\n",
        "        'lower_education_rich': lower_education_rich,\n",
        "        'min_work_hours': min_work_hours,\n",
        "        'rich_percentage': rich_percentage,\n",
        "        'highest_earning_country': highest_earning_country,\n",
        "        'highest_earning_country_percentage':\n",
        "        highest_earning_country_percentage,\n",
        "        'top_IN_occupation': top_IN_occupation\n",
        "    }"
      ]
    },
    {
      "cell_type": "code",
      "source": [
        "higher_education = df['education'].isin(['Masters','Bachelors','Doctorate'])\n",
        "lower_education = df[~df[['education'].isin(['Masters','Bachelors','Doctorate'])]\n"
      ],
      "metadata": {
        "id": "vYmsR18KgE8g",
        "colab": {
          "base_uri": "https://localhost:8080/",
          "height": 134
        },
        "outputId": "d4b204b1-53ef-47f1-abc5-648ec06caabb"
      },
      "execution_count": null,
      "outputs": [
        {
          "output_type": "error",
          "ename": "SyntaxError",
          "evalue": "ignored",
          "traceback": [
            "\u001b[0;36m  File \u001b[0;32m\"<ipython-input-6-066fc24c799c>\"\u001b[0;36m, line \u001b[0;32m2\u001b[0m\n\u001b[0;31m    lower_education = df[~df[['education'].isin(['Masters','Bachelors','Doctorate'])]\u001b[0m\n\u001b[0m                                                                                     ^\u001b[0m\n\u001b[0;31mSyntaxError\u001b[0m\u001b[0;31m:\u001b[0m unexpected EOF while parsing\n"
          ]
        }
      ]
    },
    {
      "cell_type": "code",
      "source": [
        "lowwer_education = df[~df['education'].isin(['Masters','Bachelors','Doctorate'])]\n",
        "lower_education\n",
        "lower_education = df[~df['education'].isin(['Masters','Bachelors','Doctorate'])]\n",
        "lower_education"
      ],
      "metadata": {
        "colab": {
          "base_uri": "https://localhost:8080/",
          "height": 225
        },
        "id": "KH4fJr0lzDom",
        "outputId": "3bff9cac-52be-45ad-d9ae-457d26b73b64"
      },
      "execution_count": null,
      "outputs": [
        {
          "output_type": "error",
          "ename": "NameError",
          "evalue": "ignored",
          "traceback": [
            "\u001b[0;31m---------------------------------------------------------------------------\u001b[0m",
            "\u001b[0;31mNameError\u001b[0m                                 Traceback (most recent call last)",
            "\u001b[0;32m<ipython-input-7-53810b2774a0>\u001b[0m in \u001b[0;36m<module>\u001b[0;34m\u001b[0m\n\u001b[1;32m      1\u001b[0m \u001b[0mlowwer_education\u001b[0m \u001b[0;34m=\u001b[0m \u001b[0mdf\u001b[0m\u001b[0;34m[\u001b[0m\u001b[0;34m~\u001b[0m\u001b[0mdf\u001b[0m\u001b[0;34m[\u001b[0m\u001b[0;34m'education'\u001b[0m\u001b[0;34m]\u001b[0m\u001b[0;34m.\u001b[0m\u001b[0misin\u001b[0m\u001b[0;34m(\u001b[0m\u001b[0;34m[\u001b[0m\u001b[0;34m'Masters'\u001b[0m\u001b[0;34m,\u001b[0m\u001b[0;34m'Bachelors'\u001b[0m\u001b[0;34m,\u001b[0m\u001b[0;34m'Doctorate'\u001b[0m\u001b[0;34m]\u001b[0m\u001b[0;34m)\u001b[0m\u001b[0;34m]\u001b[0m\u001b[0;34m\u001b[0m\u001b[0;34m\u001b[0m\u001b[0m\n\u001b[0;32m----> 2\u001b[0;31m \u001b[0mlower_education\u001b[0m\u001b[0;34m\u001b[0m\u001b[0;34m\u001b[0m\u001b[0m\n\u001b[0m\u001b[1;32m      3\u001b[0m \u001b[0mlower_education\u001b[0m \u001b[0;34m=\u001b[0m \u001b[0mdf\u001b[0m\u001b[0;34m[\u001b[0m\u001b[0;34m~\u001b[0m\u001b[0mdf\u001b[0m\u001b[0;34m[\u001b[0m\u001b[0;34m'education'\u001b[0m\u001b[0;34m]\u001b[0m\u001b[0;34m.\u001b[0m\u001b[0misin\u001b[0m\u001b[0;34m(\u001b[0m\u001b[0;34m[\u001b[0m\u001b[0;34m'Masters'\u001b[0m\u001b[0;34m,\u001b[0m\u001b[0;34m'Bachelors'\u001b[0m\u001b[0;34m,\u001b[0m\u001b[0;34m'Doctorate'\u001b[0m\u001b[0;34m]\u001b[0m\u001b[0;34m)\u001b[0m\u001b[0;34m]\u001b[0m\u001b[0;34m\u001b[0m\u001b[0;34m\u001b[0m\u001b[0m\n\u001b[1;32m      4\u001b[0m \u001b[0mlower_education\u001b[0m\u001b[0;34m\u001b[0m\u001b[0;34m\u001b[0m\u001b[0m\n",
            "\u001b[0;31mNameError\u001b[0m: name 'lower_education' is not defined"
          ]
        }
      ]
    },
    {
      "cell_type": "code",
      "source": [
        "higher_education = df['education'].isin(['Masters','Bachelors','Doctorate'])\n",
        "lower_education = ~higher_education\n",
        "\n",
        "higher_education_rich = ((((df['salary'] =='>50K') & higher_education).sum()) * 100 / higher_education.sum()).round(1)\n",
        "lower_education_rich = ((((df['salary'] == '>50K') & lower_education).sum()) * 100 / lower_education.sum()).round(1)\n",
        "lower_education_rich\n"
      ],
      "metadata": {
        "id": "qmpYJwzWSUs_",
        "colab": {
          "base_uri": "https://localhost:8080/"
        },
        "outputId": "e5f4a5c8-01ea-4cf6-ae8a-358c405afacb"
      },
      "execution_count": 12,
      "outputs": [
        {
          "output_type": "execute_result",
          "data": {
            "text/plain": [
              "17.4"
            ]
          },
          "metadata": {},
          "execution_count": 12
        }
      ]
    },
    {
      "cell_type": "code",
      "source": [],
      "metadata": {
        "colab": {
          "base_uri": "https://localhost:8080/"
        },
        "id": "_P-f5SmJXKdZ",
        "outputId": "89fa56eb-b0fe-411a-dc75-f4b37fc75947"
      },
      "execution_count": 10,
      "outputs": [
        {
          "output_type": "execute_result",
          "data": {
            "text/plain": [
              "0        False\n",
              "1        False\n",
              "2         True\n",
              "3         True\n",
              "4        False\n",
              "         ...  \n",
              "32556     True\n",
              "32557     True\n",
              "32558     True\n",
              "32559     True\n",
              "32560     True\n",
              "Name: education, Length: 32561, dtype: bool"
            ]
          },
          "metadata": {},
          "execution_count": 10
        }
      ]
    },
    {
      "cell_type": "code",
      "source": [
        "# the normalize = true gives us the % distribution of the data type i created a mask first to filter the salary and then with that database = G50 and sum the wanted % \n",
        "G50 = (df['salary'] == '<=50K') \n",
        "G50 = df.loc[G50,'education'].value_counts(normalize=True)\n",
        "G50.loc[['Bachelors','Masters','Doctorate']].sum()"
      ],
      "metadata": {
        "colab": {
          "base_uri": "https://localhost:8080/"
        },
        "id": "Vdngjt4KoO2O",
        "outputId": "1dc17668-e87c-4a86-fb1d-ef0ed9cf96d9"
      },
      "execution_count": null,
      "outputs": [
        {
          "output_type": "execute_result",
          "data": {
            "text/plain": [
              "0.16201456310679613"
            ]
          },
          "metadata": {},
          "execution_count": 52
        }
      ]
    },
    {
      "cell_type": "code",
      "source": [
        "df[(df['salary'] == '>50K')]"
      ],
      "metadata": {
        "colab": {
          "base_uri": "https://localhost:8080/",
          "height": 852
        },
        "id": "_1bPZkWGmy_s",
        "outputId": "02484978-1fc9-4c56-f0c0-78a71ff61362"
      },
      "execution_count": null,
      "outputs": [
        {
          "output_type": "execute_result",
          "data": {
            "text/plain": [
              "       age         workclass  fnlwgt     education  education-num  \\\n",
              "7       52  Self-emp-not-inc  209642       HS-grad              9   \n",
              "8       31           Private   45781       Masters             14   \n",
              "9       42           Private  159449     Bachelors             13   \n",
              "10      37           Private  280464  Some-college             10   \n",
              "11      30         State-gov  141297     Bachelors             13   \n",
              "...    ...               ...     ...           ...            ...   \n",
              "32539   71                 ?  287372     Doctorate             16   \n",
              "32545   39         Local-gov  111499    Assoc-acdm             12   \n",
              "32554   53           Private  321865       Masters             14   \n",
              "32557   40           Private  154374       HS-grad              9   \n",
              "32560   52      Self-emp-inc  287927       HS-grad              9   \n",
              "\n",
              "           marital-status         occupation   relationship  \\\n",
              "7      Married-civ-spouse    Exec-managerial        Husband   \n",
              "8           Never-married     Prof-specialty  Not-in-family   \n",
              "9      Married-civ-spouse    Exec-managerial        Husband   \n",
              "10     Married-civ-spouse    Exec-managerial        Husband   \n",
              "11     Married-civ-spouse     Prof-specialty        Husband   \n",
              "...                   ...                ...            ...   \n",
              "32539  Married-civ-spouse                  ?        Husband   \n",
              "32545  Married-civ-spouse       Adm-clerical           Wife   \n",
              "32554  Married-civ-spouse    Exec-managerial        Husband   \n",
              "32557  Married-civ-spouse  Machine-op-inspct        Husband   \n",
              "32560  Married-civ-spouse    Exec-managerial           Wife   \n",
              "\n",
              "                     race     sex  capital-gain  capital-loss  hours-per-week  \\\n",
              "7                   White    Male             0             0              45   \n",
              "8                   White  Female         14084             0              50   \n",
              "9                   White    Male          5178             0              40   \n",
              "10                  Black    Male             0             0              80   \n",
              "11     Asian-Pac-Islander    Male             0             0              40   \n",
              "...                   ...     ...           ...           ...             ...   \n",
              "32539               White    Male             0             0              10   \n",
              "32545               White  Female             0             0              20   \n",
              "32554               White    Male             0             0              40   \n",
              "32557               White    Male             0             0              40   \n",
              "32560               White  Female         15024             0              40   \n",
              "\n",
              "      native-country salary  \n",
              "7      United-States   >50K  \n",
              "8      United-States   >50K  \n",
              "9      United-States   >50K  \n",
              "10     United-States   >50K  \n",
              "11             India   >50K  \n",
              "...              ...    ...  \n",
              "32539  United-States   >50K  \n",
              "32545  United-States   >50K  \n",
              "32554  United-States   >50K  \n",
              "32557  United-States   >50K  \n",
              "32560  United-States   >50K  \n",
              "\n",
              "[7841 rows x 15 columns]"
            ],
            "text/html": [
              "\n",
              "  <div id=\"df-74fe7a52-ff8e-4fff-9ad1-c05907f37c1c\">\n",
              "    <div class=\"colab-df-container\">\n",
              "      <div>\n",
              "<style scoped>\n",
              "    .dataframe tbody tr th:only-of-type {\n",
              "        vertical-align: middle;\n",
              "    }\n",
              "\n",
              "    .dataframe tbody tr th {\n",
              "        vertical-align: top;\n",
              "    }\n",
              "\n",
              "    .dataframe thead th {\n",
              "        text-align: right;\n",
              "    }\n",
              "</style>\n",
              "<table border=\"1\" class=\"dataframe\">\n",
              "  <thead>\n",
              "    <tr style=\"text-align: right;\">\n",
              "      <th></th>\n",
              "      <th>age</th>\n",
              "      <th>workclass</th>\n",
              "      <th>fnlwgt</th>\n",
              "      <th>education</th>\n",
              "      <th>education-num</th>\n",
              "      <th>marital-status</th>\n",
              "      <th>occupation</th>\n",
              "      <th>relationship</th>\n",
              "      <th>race</th>\n",
              "      <th>sex</th>\n",
              "      <th>capital-gain</th>\n",
              "      <th>capital-loss</th>\n",
              "      <th>hours-per-week</th>\n",
              "      <th>native-country</th>\n",
              "      <th>salary</th>\n",
              "    </tr>\n",
              "  </thead>\n",
              "  <tbody>\n",
              "    <tr>\n",
              "      <th>7</th>\n",
              "      <td>52</td>\n",
              "      <td>Self-emp-not-inc</td>\n",
              "      <td>209642</td>\n",
              "      <td>HS-grad</td>\n",
              "      <td>9</td>\n",
              "      <td>Married-civ-spouse</td>\n",
              "      <td>Exec-managerial</td>\n",
              "      <td>Husband</td>\n",
              "      <td>White</td>\n",
              "      <td>Male</td>\n",
              "      <td>0</td>\n",
              "      <td>0</td>\n",
              "      <td>45</td>\n",
              "      <td>United-States</td>\n",
              "      <td>&gt;50K</td>\n",
              "    </tr>\n",
              "    <tr>\n",
              "      <th>8</th>\n",
              "      <td>31</td>\n",
              "      <td>Private</td>\n",
              "      <td>45781</td>\n",
              "      <td>Masters</td>\n",
              "      <td>14</td>\n",
              "      <td>Never-married</td>\n",
              "      <td>Prof-specialty</td>\n",
              "      <td>Not-in-family</td>\n",
              "      <td>White</td>\n",
              "      <td>Female</td>\n",
              "      <td>14084</td>\n",
              "      <td>0</td>\n",
              "      <td>50</td>\n",
              "      <td>United-States</td>\n",
              "      <td>&gt;50K</td>\n",
              "    </tr>\n",
              "    <tr>\n",
              "      <th>9</th>\n",
              "      <td>42</td>\n",
              "      <td>Private</td>\n",
              "      <td>159449</td>\n",
              "      <td>Bachelors</td>\n",
              "      <td>13</td>\n",
              "      <td>Married-civ-spouse</td>\n",
              "      <td>Exec-managerial</td>\n",
              "      <td>Husband</td>\n",
              "      <td>White</td>\n",
              "      <td>Male</td>\n",
              "      <td>5178</td>\n",
              "      <td>0</td>\n",
              "      <td>40</td>\n",
              "      <td>United-States</td>\n",
              "      <td>&gt;50K</td>\n",
              "    </tr>\n",
              "    <tr>\n",
              "      <th>10</th>\n",
              "      <td>37</td>\n",
              "      <td>Private</td>\n",
              "      <td>280464</td>\n",
              "      <td>Some-college</td>\n",
              "      <td>10</td>\n",
              "      <td>Married-civ-spouse</td>\n",
              "      <td>Exec-managerial</td>\n",
              "      <td>Husband</td>\n",
              "      <td>Black</td>\n",
              "      <td>Male</td>\n",
              "      <td>0</td>\n",
              "      <td>0</td>\n",
              "      <td>80</td>\n",
              "      <td>United-States</td>\n",
              "      <td>&gt;50K</td>\n",
              "    </tr>\n",
              "    <tr>\n",
              "      <th>11</th>\n",
              "      <td>30</td>\n",
              "      <td>State-gov</td>\n",
              "      <td>141297</td>\n",
              "      <td>Bachelors</td>\n",
              "      <td>13</td>\n",
              "      <td>Married-civ-spouse</td>\n",
              "      <td>Prof-specialty</td>\n",
              "      <td>Husband</td>\n",
              "      <td>Asian-Pac-Islander</td>\n",
              "      <td>Male</td>\n",
              "      <td>0</td>\n",
              "      <td>0</td>\n",
              "      <td>40</td>\n",
              "      <td>India</td>\n",
              "      <td>&gt;50K</td>\n",
              "    </tr>\n",
              "    <tr>\n",
              "      <th>...</th>\n",
              "      <td>...</td>\n",
              "      <td>...</td>\n",
              "      <td>...</td>\n",
              "      <td>...</td>\n",
              "      <td>...</td>\n",
              "      <td>...</td>\n",
              "      <td>...</td>\n",
              "      <td>...</td>\n",
              "      <td>...</td>\n",
              "      <td>...</td>\n",
              "      <td>...</td>\n",
              "      <td>...</td>\n",
              "      <td>...</td>\n",
              "      <td>...</td>\n",
              "      <td>...</td>\n",
              "    </tr>\n",
              "    <tr>\n",
              "      <th>32539</th>\n",
              "      <td>71</td>\n",
              "      <td>?</td>\n",
              "      <td>287372</td>\n",
              "      <td>Doctorate</td>\n",
              "      <td>16</td>\n",
              "      <td>Married-civ-spouse</td>\n",
              "      <td>?</td>\n",
              "      <td>Husband</td>\n",
              "      <td>White</td>\n",
              "      <td>Male</td>\n",
              "      <td>0</td>\n",
              "      <td>0</td>\n",
              "      <td>10</td>\n",
              "      <td>United-States</td>\n",
              "      <td>&gt;50K</td>\n",
              "    </tr>\n",
              "    <tr>\n",
              "      <th>32545</th>\n",
              "      <td>39</td>\n",
              "      <td>Local-gov</td>\n",
              "      <td>111499</td>\n",
              "      <td>Assoc-acdm</td>\n",
              "      <td>12</td>\n",
              "      <td>Married-civ-spouse</td>\n",
              "      <td>Adm-clerical</td>\n",
              "      <td>Wife</td>\n",
              "      <td>White</td>\n",
              "      <td>Female</td>\n",
              "      <td>0</td>\n",
              "      <td>0</td>\n",
              "      <td>20</td>\n",
              "      <td>United-States</td>\n",
              "      <td>&gt;50K</td>\n",
              "    </tr>\n",
              "    <tr>\n",
              "      <th>32554</th>\n",
              "      <td>53</td>\n",
              "      <td>Private</td>\n",
              "      <td>321865</td>\n",
              "      <td>Masters</td>\n",
              "      <td>14</td>\n",
              "      <td>Married-civ-spouse</td>\n",
              "      <td>Exec-managerial</td>\n",
              "      <td>Husband</td>\n",
              "      <td>White</td>\n",
              "      <td>Male</td>\n",
              "      <td>0</td>\n",
              "      <td>0</td>\n",
              "      <td>40</td>\n",
              "      <td>United-States</td>\n",
              "      <td>&gt;50K</td>\n",
              "    </tr>\n",
              "    <tr>\n",
              "      <th>32557</th>\n",
              "      <td>40</td>\n",
              "      <td>Private</td>\n",
              "      <td>154374</td>\n",
              "      <td>HS-grad</td>\n",
              "      <td>9</td>\n",
              "      <td>Married-civ-spouse</td>\n",
              "      <td>Machine-op-inspct</td>\n",
              "      <td>Husband</td>\n",
              "      <td>White</td>\n",
              "      <td>Male</td>\n",
              "      <td>0</td>\n",
              "      <td>0</td>\n",
              "      <td>40</td>\n",
              "      <td>United-States</td>\n",
              "      <td>&gt;50K</td>\n",
              "    </tr>\n",
              "    <tr>\n",
              "      <th>32560</th>\n",
              "      <td>52</td>\n",
              "      <td>Self-emp-inc</td>\n",
              "      <td>287927</td>\n",
              "      <td>HS-grad</td>\n",
              "      <td>9</td>\n",
              "      <td>Married-civ-spouse</td>\n",
              "      <td>Exec-managerial</td>\n",
              "      <td>Wife</td>\n",
              "      <td>White</td>\n",
              "      <td>Female</td>\n",
              "      <td>15024</td>\n",
              "      <td>0</td>\n",
              "      <td>40</td>\n",
              "      <td>United-States</td>\n",
              "      <td>&gt;50K</td>\n",
              "    </tr>\n",
              "  </tbody>\n",
              "</table>\n",
              "<p>7841 rows × 15 columns</p>\n",
              "</div>\n",
              "      <button class=\"colab-df-convert\" onclick=\"convertToInteractive('df-74fe7a52-ff8e-4fff-9ad1-c05907f37c1c')\"\n",
              "              title=\"Convert this dataframe to an interactive table.\"\n",
              "              style=\"display:none;\">\n",
              "        \n",
              "  <svg xmlns=\"http://www.w3.org/2000/svg\" height=\"24px\"viewBox=\"0 0 24 24\"\n",
              "       width=\"24px\">\n",
              "    <path d=\"M0 0h24v24H0V0z\" fill=\"none\"/>\n",
              "    <path d=\"M18.56 5.44l.94 2.06.94-2.06 2.06-.94-2.06-.94-.94-2.06-.94 2.06-2.06.94zm-11 1L8.5 8.5l.94-2.06 2.06-.94-2.06-.94L8.5 2.5l-.94 2.06-2.06.94zm10 10l.94 2.06.94-2.06 2.06-.94-2.06-.94-.94-2.06-.94 2.06-2.06.94z\"/><path d=\"M17.41 7.96l-1.37-1.37c-.4-.4-.92-.59-1.43-.59-.52 0-1.04.2-1.43.59L10.3 9.45l-7.72 7.72c-.78.78-.78 2.05 0 2.83L4 21.41c.39.39.9.59 1.41.59.51 0 1.02-.2 1.41-.59l7.78-7.78 2.81-2.81c.8-.78.8-2.07 0-2.86zM5.41 20L4 18.59l7.72-7.72 1.47 1.35L5.41 20z\"/>\n",
              "  </svg>\n",
              "      </button>\n",
              "      \n",
              "  <style>\n",
              "    .colab-df-container {\n",
              "      display:flex;\n",
              "      flex-wrap:wrap;\n",
              "      gap: 12px;\n",
              "    }\n",
              "\n",
              "    .colab-df-convert {\n",
              "      background-color: #E8F0FE;\n",
              "      border: none;\n",
              "      border-radius: 50%;\n",
              "      cursor: pointer;\n",
              "      display: none;\n",
              "      fill: #1967D2;\n",
              "      height: 32px;\n",
              "      padding: 0 0 0 0;\n",
              "      width: 32px;\n",
              "    }\n",
              "\n",
              "    .colab-df-convert:hover {\n",
              "      background-color: #E2EBFA;\n",
              "      box-shadow: 0px 1px 2px rgba(60, 64, 67, 0.3), 0px 1px 3px 1px rgba(60, 64, 67, 0.15);\n",
              "      fill: #174EA6;\n",
              "    }\n",
              "\n",
              "    [theme=dark] .colab-df-convert {\n",
              "      background-color: #3B4455;\n",
              "      fill: #D2E3FC;\n",
              "    }\n",
              "\n",
              "    [theme=dark] .colab-df-convert:hover {\n",
              "      background-color: #434B5C;\n",
              "      box-shadow: 0px 1px 3px 1px rgba(0, 0, 0, 0.15);\n",
              "      filter: drop-shadow(0px 1px 2px rgba(0, 0, 0, 0.3));\n",
              "      fill: #FFFFFF;\n",
              "    }\n",
              "  </style>\n",
              "\n",
              "      <script>\n",
              "        const buttonEl =\n",
              "          document.querySelector('#df-74fe7a52-ff8e-4fff-9ad1-c05907f37c1c button.colab-df-convert');\n",
              "        buttonEl.style.display =\n",
              "          google.colab.kernel.accessAllowed ? 'block' : 'none';\n",
              "\n",
              "        async function convertToInteractive(key) {\n",
              "          const element = document.querySelector('#df-74fe7a52-ff8e-4fff-9ad1-c05907f37c1c');\n",
              "          const dataTable =\n",
              "            await google.colab.kernel.invokeFunction('convertToInteractive',\n",
              "                                                     [key], {});\n",
              "          if (!dataTable) return;\n",
              "\n",
              "          const docLinkHtml = 'Like what you see? Visit the ' +\n",
              "            '<a target=\"_blank\" href=https://colab.research.google.com/notebooks/data_table.ipynb>data table notebook</a>'\n",
              "            + ' to learn more about interactive tables.';\n",
              "          element.innerHTML = '';\n",
              "          dataTable['output_type'] = 'display_data';\n",
              "          await google.colab.output.renderOutput(dataTable, element);\n",
              "          const docLink = document.createElement('div');\n",
              "          docLink.innerHTML = docLinkHtml;\n",
              "          element.appendChild(docLink);\n",
              "        }\n",
              "      </script>\n",
              "    </div>\n",
              "  </div>\n",
              "  "
            ]
          },
          "metadata": {},
          "execution_count": 81
        }
      ]
    },
    {
      "cell_type": "code",
      "source": [
        " df[(df['salary'] == '>50K') & (df['native-country'] == 'India')].value_counts('occupation').idxmax()"
      ],
      "metadata": {
        "colab": {
          "base_uri": "https://localhost:8080/",
          "height": 36
        },
        "id": "P9AJ7WDly1wF",
        "outputId": "7b57f205-da75-49fc-be9c-acf486d56d2f"
      },
      "execution_count": null,
      "outputs": [
        {
          "output_type": "execute_result",
          "data": {
            "text/plain": [
              "'Prof-specialty'"
            ],
            "application/vnd.google.colaboratory.intrinsic+json": {
              "type": "string"
            }
          },
          "metadata": {},
          "execution_count": 86
        }
      ]
    },
    {
      "cell_type": "code",
      "source": [
        "high_income_co = (df.groupby('native-country')['salary'].apply(lambda x: (x=='>50K').mean()))\n",
        "highest_earning_country = high_income_co.idxmax()\n",
        "highest_earning_country_percentage = (high_income_co.max() * 100).round(1)\n",
        "highest_earning_country_percentage"
      ],
      "metadata": {
        "colab": {
          "base_uri": "https://localhost:8080/"
        },
        "id": "zrJ7AECbVlhe",
        "outputId": "fc90b579-9161-4d96-e770-05dd4c390407"
      },
      "execution_count": null,
      "outputs": [
        {
          "output_type": "execute_result",
          "data": {
            "text/plain": [
              "41.9"
            ]
          },
          "metadata": {},
          "execution_count": 78
        }
      ]
    },
    {
      "cell_type": "code",
      "source": [
        "highest_earning_country = (df.groupby('native-country')['salary'].apply(lambda x: (x=='>50K').sum())).idxmax()\n",
        "highest_earning_country_percentage = (df.groupby('native-country')['salary'].apply(lambda x: (x=='>50K').sum())).max() / (df.groupby('native-country')['salary'].apply(lambda x: (x=='>50K'))).sum()\n",
        "highest_earning_country"
      ],
      "metadata": {
        "id": "2SB4_Mt0UEsO"
      },
      "execution_count": null,
      "outputs": []
    },
    {
      "cell_type": "code",
      "execution_count": null,
      "metadata": {
        "id": "A9eREmPX5cqn"
      },
      "outputs": [],
      "source": [
        "\n",
        "\n",
        "def calculate_demographic_data(print_data=True):\n",
        "    # Read data from file\n",
        "    df = pd.read_csv('/content/adult.data.csv')\n",
        "\n",
        "    # How many of each race are represented in this dataset? This should be a Pandas series with race names as the index labels.\n",
        "    race_count = df['race'].value_counts() #value_counts( count every repeated value in the dataset) and it is a panda series\n",
        "\n",
        "    # What is the average age of men?\n",
        "    # with the query option i can extract info from a given column and show the values in another column witouth a mask\n",
        "\n",
        "    average_age_men =  df.query(\"sex== 'Male'\")['age'].mean()\n",
        "    # What is the percentage of people who have a Bachelor's degree?\n",
        "    percentage_bachelors = df['education'].value_counts()['Bachelors'] / df['education'].count() # here we count every value of Bachelors and divide by the total of education\n",
        "\n",
        "    # What percentage of people with advanced education (`Bachelors`, `Masters`, or `Doctorate`) make more than 50K?\n",
        "    # What percentage of people without advanced education make more than 50K?\n",
        "\n",
        "    # with and without `Bachelors`, `Masters`, or `Doctorate`\n",
        "\n",
        "    # with and without `Bachelors`, `Masters`, or `Doctorate`\n",
        "    # to run thiss first we create the mask for hi an lo and lo can be create as the negative of the hi mask with the ~ condition\n",
        "    higher_education = df['education'].isin(['Masters','Bachelors','Doctorate'])\n",
        "    lower_education = ~higher_education\n",
        "\n",
        "    # percentage with salary >50K\n",
        "    # the resuslt of the percentage is sthe sum of the true values of the massk with two conditions and * by 10\n",
        "    # then it is * by the same mask added and all the line is rounded to 1 decimal \n",
        "    higher_education_rich = ((((df['salary'] =='>50K') & higher_education).sum()) * 100 / higher_education.sum()).round(1)\n",
        "    lower_education_rich = ((((df['salary'] =='>50K') & lower_education).sum()) * 100 / lower_education.sum()).round(1)\n",
        "\n",
        "\n",
        "    # What is the minimum number of hours a person works per week (hours-per-week feature)?\n",
        "    min_work_hours = df['hours-per-week'].min()\n",
        "\n",
        "    # What percentage of the people who work the minimum number of hours per week have a salary of >50K?\n",
        "    # we created a dataframe with two conditions and then sum all the resulting rows then / by the total of min hours\n",
        "    # in the numminworkers i used the result of the min avlue inssst3e4ad of putting the value itself\n",
        "\n",
        "    num_min_workers = (df['hours-per-week'] ==  min_work_hours ).sum()\n",
        "\n",
        "\n",
        "\n",
        "    rich_percentage =(((df['hours-per-week'] == min_work_hours)) & (df['salary'] == '>50K' )).sum()  / (df['hours-per-week'] == min_work_hours ).sum()\n",
        "\n",
        "\n",
        "    # What country has the highest percentage of people that earn >50K?\n",
        "    # using mask we revelaed the >50k workers and then count every country worker and then extract the max value but with the index and not the value itself\n",
        "    #I used the lamda funcion to use a condition to select the values that where equal to >50K\n",
        "    # i used the same function witouh the max value index and i divideit by the total amount\n",
        "    # then i found out that the result should be iran and that is beacuse i need to get the % of how many people out of the total sum of the people that earn :50k are in that population\n",
        "    # imanaged to do that searching the solution and getting the .mean) out of the group by function and saving it into other variable to not complicate more things\n",
        "    high_income_co = (df.groupby('native-country')['salary'].apply(lambda x: (x=='>50K').mean()))\n",
        "    highest_earning_country = high_income_co.idxmax()\n",
        "    highest_earning_country_percentage = highest_earning_country_percentage = (high_income_co.max() * 100).round(1)\n",
        "    # Identify the most popular occupation for those who earn >50K in India.\n",
        "    # I'm using a mask but witouh a variable instead i reffered the df and inside the [] i put the mask that i wanted to reveal outside the [] for the first df then i counted and return the max index str\n",
        "    top_IN_occupation =  df[(df['salary'] == '>50K') & (df['native-country'] == 'India')].value_counts('occupation').idxmax()\n",
        "\n",
        "    # DO NOT MODIFY BELOW THIS LINE\n",
        "\n",
        "    if print_data:\n",
        "        print(\"Number of each race:\\n\", race_count) \n",
        "        print(\"Average age of men:\", average_age_men)\n",
        "        print(f\"Percentage with Bachelors degrees: {percentage_bachelors}%\")\n",
        "        print(f\"Percentage with higher education that earn >50K: {higher_education_rich}%\")\n",
        "        print(f\"Percentage without higher education that earn >50K: {lower_education_rich}%\")\n",
        "        print(f\"Min work time: {min_work_hours} hours/week\")\n",
        "        print(f\"Percentage of rich among those who work fewest hours: {rich_percentage}%\")\n",
        "        print(\"Country with highest percentage of rich:\", highest_earning_country)\n",
        "        print(f\"Highest percentage of rich people in country: {highest_earning_country_percentage}%\")\n",
        "        print(\"Top occupations in India:\", top_IN_occupation)\n",
        "\n",
        "    return {\n",
        "        'race_count': race_count,\n",
        "        'average_age_men': average_age_men,\n",
        "        'percentage_bachelors': percentage_bachelors,\n",
        "        'higher_education_rich': higher_education_rich,\n",
        "        'lower_education_rich': lower_education_rich,\n",
        "        'min_work_hours': min_work_hours,\n",
        "        'rich_percentage': rich_percentage,\n",
        "        'highest_earning_country': highest_earning_country,\n",
        "        'highest_earning_country_percentage':\n",
        "        highest_earning_country_percentage,\n",
        "        'top_IN_occupation': top_IN_occupation\n",
        "    }"
      ]
    },
    {
      "cell_type": "code",
      "source": [],
      "metadata": {
        "id": "Qkims1VhJmWg"
      },
      "execution_count": null,
      "outputs": []
    }
  ]
}