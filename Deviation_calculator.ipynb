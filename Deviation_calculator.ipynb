{
  "nbformat": 4,
  "nbformat_minor": 0,
  "metadata": {
    "colab": {
      "provenance": [],
      "authorship_tag": "ABX9TyO0CQbroeDWkholucNggr5K",
      "include_colab_link": true
    },
    "kernelspec": {
      "name": "python3",
      "display_name": "Python 3"
    },
    "language_info": {
      "name": "python"
    }
  },
  "cells": [
    {
      "cell_type": "markdown",
      "metadata": {
        "id": "view-in-github",
        "colab_type": "text"
      },
      "source": [
        "<a href=\"https://colab.research.google.com/github/RioDeMilo/Data-analysis-with-python-projects/blob/main/Deviation_calculator.ipynb\" target=\"_parent\"><img src=\"https://colab.research.google.com/assets/colab-badge.svg\" alt=\"Open In Colab\"/></a>"
      ]
    },
    {
      "cell_type": "code",
      "execution_count": null,
      "metadata": {
        "colab": {
          "base_uri": "https://localhost:8080/"
        },
        "id": "GtFcRNwS5Yhd",
        "outputId": "0876cd2f-bb55-402c-a735-b27086dba991"
      },
      "outputs": [
        {
          "output_type": "stream",
          "name": "stdout",
          "text": [
            "1.21.6\n"
          ]
        }
      ],
      "source": [
        "# Import the numpy package under the name np\n",
        "import numpy as np\n",
        "\n",
        "# Print the numpy version and the configuration\n",
        "print(np.__version__)\n",
        "\n"
      ]
    },
    {
      "cell_type": "code",
      "source": [
        " list = ([0,1,2,3,4,5,6,7,8])\n",
        "Y = np.asarray(list)\n",
        "X = Y.reshape(3,3)\n",
        " def calculate(array):\n",
        "      return 'mean', array.mean(axis=0), array.mean(axis=1), array.mean(),'Variance', array.var(axis=0), array.var(axis=1), array.var(), 'Standart deviation', array.std(axis=0), array.std(axis=1), array.std(),'Max', array.max(axis=0), array.max(axis=1), array.max(), 'Min', array.min(axis=0), array.min(axis=1), array.min(), 'Sum', array.sum(axis=0), array.sum(axis=1), array.sum()\n",
        "calculate(X)"
      ],
      "metadata": {
        "colab": {
          "base_uri": "https://localhost:8080/"
        },
        "id": "sgihtORy5ge4",
        "outputId": "9eb1c2d5-0e5f-411e-8c12-face2166912f"
      },
      "execution_count": null,
      "outputs": [
        {
          "output_type": "execute_result",
          "data": {
            "text/plain": [
              "('mean',\n",
              " array([3., 4., 5.]),\n",
              " array([1., 4., 7.]),\n",
              " 4.0,\n",
              " 'Variance',\n",
              " array([6., 6., 6.]),\n",
              " array([0.66666667, 0.66666667, 0.66666667]),\n",
              " 6.666666666666667,\n",
              " 'Standart deviation',\n",
              " array([2.44948974, 2.44948974, 2.44948974]),\n",
              " array([0.81649658, 0.81649658, 0.81649658]),\n",
              " 2.581988897471611,\n",
              " 'Max',\n",
              " array([6, 7, 8]),\n",
              " array([2, 5, 8]),\n",
              " 8,\n",
              " 'Min',\n",
              " array([0, 1, 2]),\n",
              " array([0, 3, 6]),\n",
              " 0,\n",
              " 'Sum',\n",
              " array([ 9, 12, 15]),\n",
              " array([ 3, 12, 21]),\n",
              " 36)"
            ]
          },
          "metadata": {},
          "execution_count": 2
        }
      ]
    },
    {
      "cell_type": "code",
      "source": [],
      "metadata": {
        "id": "_btmOViU5mU3"
      },
      "execution_count": null,
      "outputs": []
    }
  ]
}