{
  "nbformat": 4,
  "nbformat_minor": 0,
  "metadata": {
    "colab": {
      "provenance": [],
      "authorship_tag": "ABX9TyO8rSuMuh99kOlBGN/6WotV",
      "include_colab_link": true
    },
    "kernelspec": {
      "name": "python3",
      "display_name": "Python 3"
    },
    "language_info": {
      "name": "python"
    }
  },
  "cells": [
    {
      "cell_type": "markdown",
      "metadata": {
        "id": "view-in-github",
        "colab_type": "text"
      },
      "source": [
        "<a href=\"https://colab.research.google.com/github/RioDeMilo/Data-analysis-with-python-projects/blob/main/Deviation_calculator.ipynb\" target=\"_parent\"><img src=\"https://colab.research.google.com/assets/colab-badge.svg\" alt=\"Open In Colab\"/></a>"
      ]
    },
    {
      "cell_type": "code",
      "execution_count": null,
      "metadata": {
        "colab": {
          "base_uri": "https://localhost:8080/"
        },
        "id": "GtFcRNwS5Yhd",
        "outputId": "f64a3ded-5a0a-404b-a0de-784cdf537851"
      },
      "outputs": [
        {
          "output_type": "stream",
          "name": "stdout",
          "text": [
            "1.21.6\n"
          ]
        }
      ],
      "source": [
        "# Import the numpy package under the name np\n",
        "import numpy as np\n",
        "\n",
        "# Print the numpy version and the configuration\n",
        "print(np.__version__)\n",
        "\n"
      ]
    },
    {
      "cell_type": "code",
      "source": [
        "def calculate(list):\n",
        "  array =  np.array(list).reshape(3,3)\n",
        "  if len(list) == 9:\n",
        "    return {'mean': [array.mean(axis=0), array.mean(axis=1), array.mean()],\n",
        "              'Variance': [array.var(axis=0), array.var(axis=1), array.var()], \n",
        "              'Standart deviation': [array.std(axis=0), array.std(axis=1), array.std()],\n",
        "              'Max': [array.max(axis=0), array.max(axis=1), array.max()], \n",
        "              'Min': [array.min(axis=0), array.min(axis=1), array.min()],\n",
        "              'Sum': [array.sum(axis=0), array.sum(axis=1), array.sum()]}\n",
        "  else : \n",
        "   return 'the list must contain 9 values' "
      ],
      "metadata": {
        "id": "Bc5CR9jOi5pH"
      },
      "execution_count": null,
      "outputs": []
    },
    {
      "cell_type": "code",
      "source": [
        "def calculate(list):# to get the list of the function i used array andd i returned error cuz the starting value it's a list\n",
        "  array =  np.array(list).reshape(3,3) #it was required for the projecto to convert a list into a numpy array in a 3,3 form\n",
        "  if len(list) == 9: #I wanted to get a if function to start the programg if the list contained 9 values else will print the code error\n",
        "    return {'mean': [array.mean(axis=0), array.mean(axis=1), array.mean()], # the return value comes from the def function \n",
        "              'Variance': [array.var(axis=0), array.var(axis=1), array.var()], # all the return value iss contained in {} to get a final result of a dictionary\n",
        "              'Standart deviation': [array.std(axis=0), array.std(axis=1), array.std()],# that's why every value conatins a index in this case strings like \"mean\" :\n",
        "              'Max': [array.max(axis=0), array.max(axis=1), array.max()], # to contain multiple results in the values of the dictionary we separate with commmas\n",
        "              'Min': [array.min(axis=0), array.min(axis=1), array.min()],\n",
        "              'Sum': [array.sum(axis=0), array.sum(axis=1), array.sum()]}\n",
        "  else : \n",
        "   return 'the list must contain 9 values' \n",
        "calculate([2,6,2,8,4,0,1,5,7])"
      ],
      "metadata": {
        "colab": {
          "base_uri": "https://localhost:8080/"
        },
        "id": "sgihtORy5ge4",
        "outputId": "253e56e1-e0af-41e4-ad3f-4150f189302d"
      },
      "execution_count": null,
      "outputs": [
        {
          "output_type": "execute_result",
          "data": {
            "text/plain": [
              "{'mean': [array([3.66666667, 5.        , 3.        ]),\n",
              "  array([3.33333333, 4.        , 4.33333333]),\n",
              "  3.888888888888889],\n",
              " 'Variance': [array([9.55555556, 0.66666667, 8.66666667]),\n",
              "  array([ 3.55555556, 10.66666667,  6.22222222]),\n",
              "  6.987654320987654],\n",
              " 'Standart deviation': [array([3.09120617, 0.81649658, 2.94392029]),\n",
              "  array([1.88561808, 3.26598632, 2.49443826]),\n",
              "  2.6434171674156266],\n",
              " 'Max': [array([8, 6, 7]), array([6, 8, 7]), 8],\n",
              " 'Min': [array([1, 4, 0]), array([2, 0, 1]), 0],\n",
              " 'Sum': [array([11, 15,  9]), array([10, 12, 13]), 35]}"
            ]
          },
          "metadata": {},
          "execution_count": 153
        }
      ]
    },
    {
      "cell_type": "code",
      "source": [
        "dick = calculate([2,6,2,8,4,0,1,5,7])\n"
      ],
      "metadata": {
        "colab": {
          "base_uri": "https://localhost:8080/",
          "height": 189
        },
        "id": "p08g8dNMXmwm",
        "outputId": "d819fe40-97c9-4cc8-c3a5-107f435ff46b"
      },
      "execution_count": null,
      "outputs": [
        {
          "output_type": "error",
          "ename": "AttributeError",
          "evalue": "ignored",
          "traceback": [
            "\u001b[0;31m---------------------------------------------------------------------------\u001b[0m",
            "\u001b[0;31mAttributeError\u001b[0m                            Traceback (most recent call last)",
            "\u001b[0;32m<ipython-input-88-4ee003bef65f>\u001b[0m in \u001b[0;36m<module>\u001b[0;34m\u001b[0m\n\u001b[1;32m      1\u001b[0m \u001b[0mdick\u001b[0m \u001b[0;34m=\u001b[0m \u001b[0mcalculate\u001b[0m\u001b[0;34m(\u001b[0m\u001b[0;34m[\u001b[0m\u001b[0;36m2\u001b[0m\u001b[0;34m,\u001b[0m\u001b[0;36m6\u001b[0m\u001b[0;34m,\u001b[0m\u001b[0;36m2\u001b[0m\u001b[0;34m,\u001b[0m\u001b[0;36m8\u001b[0m\u001b[0;34m,\u001b[0m\u001b[0;36m4\u001b[0m\u001b[0;34m,\u001b[0m\u001b[0;36m0\u001b[0m\u001b[0;34m,\u001b[0m\u001b[0;36m1\u001b[0m\u001b[0;34m,\u001b[0m\u001b[0;36m5\u001b[0m\u001b[0;34m,\u001b[0m\u001b[0;36m7\u001b[0m\u001b[0;34m]\u001b[0m\u001b[0;34m)\u001b[0m\u001b[0;34m\u001b[0m\u001b[0;34m\u001b[0m\u001b[0m\n\u001b[0;32m----> 2\u001b[0;31m \u001b[0mdick\u001b[0m\u001b[0;34m.\u001b[0m\u001b[0mdtype\u001b[0m\u001b[0;34m\u001b[0m\u001b[0;34m\u001b[0m\u001b[0m\n\u001b[0m",
            "\u001b[0;31mAttributeError\u001b[0m: 'dict' object has no attribute 'dtype'"
          ]
        }
      ]
    },
    {
      "cell_type": "code",
      "source": [
        "calculate =  ([2,6,2,8,4,0,1,5,7])\n",
        "array = np.array(calculate).reshape(3,3)\n",
        "array\n"
      ],
      "metadata": {
        "id": "_btmOViU5mU3",
        "colab": {
          "base_uri": "https://localhost:8080/"
        },
        "outputId": "b78fe7c2-633d-4cec-ca17-76eceea5a93f"
      },
      "execution_count": null,
      "outputs": [
        {
          "output_type": "execute_result",
          "data": {
            "text/plain": [
              "array([[2, 6, 2],\n",
              "       [8, 4, 0],\n",
              "       [1, 5, 7]])"
            ]
          },
          "metadata": {},
          "execution_count": 165
        }
      ]
    },
    {
      "cell_type": "code",
      "source": [
        "np.array(10)\n",
        "a= np.array(10)\n",
        "type(a)"
      ],
      "metadata": {
        "colab": {
          "base_uri": "https://localhost:8080/"
        },
        "id": "9Yeob_G14-TK",
        "outputId": "fac5d226-3c11-4939-a541-c21c15909102"
      },
      "execution_count": null,
      "outputs": [
        {
          "output_type": "execute_result",
          "data": {
            "text/plain": [
              "numpy.ndarray"
            ]
          },
          "metadata": {},
          "execution_count": 56
        }
      ]
    },
    {
      "cell_type": "code",
      "source": [
        "calculate = ([2,6,2,8,4,0,1,5,7])\n",
        "array = np.array(calculate).reshape(3,3)\n",
        "type(calculate),type(array)"
      ],
      "metadata": {
        "colab": {
          "base_uri": "https://localhost:8080/"
        },
        "id": "fEkJyX0WT0hz",
        "outputId": "38870f51-4ecd-4ae5-f7d3-3a3476ad8122"
      },
      "execution_count": null,
      "outputs": [
        {
          "output_type": "execute_result",
          "data": {
            "text/plain": [
              "(list, numpy.ndarray)"
            ]
          },
          "metadata": {},
          "execution_count": 76
        }
      ]
    },
    {
      "cell_type": "code",
      "source": [
        "X = [3, 4, 5]\n",
        "print(X,type(X))\n",
        "Y= np.array (X)\n",
        "print(Y,type(Y))"
      ],
      "metadata": {
        "colab": {
          "base_uri": "https://localhost:8080/"
        },
        "id": "2MyN1o52Vrdy",
        "outputId": "e8c6e263-24ea-4bc3-b51f-c570a7e5377a"
      },
      "execution_count": null,
      "outputs": [
        {
          "output_type": "stream",
          "name": "stdout",
          "text": [
            "[3, 4, 5] <class 'list'>\n",
            "[3 4 5] <class 'numpy.ndarray'>\n"
          ]
        }
      ]
    },
    {
      "cell_type": "code",
      "source": [
        "def calculate(list):\n",
        "  array =  np.array(list).reshape(3,3)\n",
        "  if len(list) == 9:\n",
        "    return {'mean': [array.mean(axis=0), array.mean(axis=1), array.mean()],\n",
        "              'Variance': [array.var(axis=0), array.var(axis=1), array.var()], \n",
        "              'Standart deviation': [array.std(axis=0), array.std(axis=1), array.std()],\n",
        "              'Max': [array.max(axis=0), array.max(axis=1), array.max()], \n",
        "              'Min': [array.min(axis=0), array.min(axis=1), array.min()],\n",
        "              'Sum': [array.sum(axis=0), array.sum(axis=1), array.sum()]}\n",
        "  else : \n",
        "    raise valueError('the list must contain 9 values')\n",
        "calculate([2,6,2,8,4,0,1,5,7,8])\n"
      ],
      "metadata": {
        "colab": {
          "base_uri": "https://localhost:8080/",
          "height": 334
        },
        "id": "c8zeTb43V97b",
        "outputId": "97421105-3941-4ce4-eaf9-6a51cf20d6df"
      },
      "execution_count": null,
      "outputs": [
        {
          "output_type": "error",
          "ename": "ValueError",
          "evalue": "ignored",
          "traceback": [
            "\u001b[0;31m---------------------------------------------------------------------------\u001b[0m",
            "\u001b[0;31mValueError\u001b[0m                                Traceback (most recent call last)",
            "\u001b[0;32m<ipython-input-164-04720675ce56>\u001b[0m in \u001b[0;36m<module>\u001b[0;34m\u001b[0m\n\u001b[1;32m     10\u001b[0m   \u001b[0;32melse\u001b[0m \u001b[0;34m:\u001b[0m\u001b[0;34m\u001b[0m\u001b[0;34m\u001b[0m\u001b[0m\n\u001b[1;32m     11\u001b[0m     \u001b[0;32mraise\u001b[0m \u001b[0mvalueError\u001b[0m\u001b[0;34m(\u001b[0m\u001b[0;34m'the list must contain 9 values'\u001b[0m\u001b[0;34m)\u001b[0m\u001b[0;34m\u001b[0m\u001b[0;34m\u001b[0m\u001b[0m\n\u001b[0;32m---> 12\u001b[0;31m \u001b[0mcalculate\u001b[0m\u001b[0;34m(\u001b[0m\u001b[0;34m[\u001b[0m\u001b[0;36m2\u001b[0m\u001b[0;34m,\u001b[0m\u001b[0;36m6\u001b[0m\u001b[0;34m,\u001b[0m\u001b[0;36m2\u001b[0m\u001b[0;34m,\u001b[0m\u001b[0;36m8\u001b[0m\u001b[0;34m,\u001b[0m\u001b[0;36m4\u001b[0m\u001b[0;34m,\u001b[0m\u001b[0;36m0\u001b[0m\u001b[0;34m,\u001b[0m\u001b[0;36m1\u001b[0m\u001b[0;34m,\u001b[0m\u001b[0;36m5\u001b[0m\u001b[0;34m,\u001b[0m\u001b[0;36m7\u001b[0m\u001b[0;34m,\u001b[0m\u001b[0;36m8\u001b[0m\u001b[0;34m]\u001b[0m\u001b[0;34m)\u001b[0m\u001b[0;34m\u001b[0m\u001b[0;34m\u001b[0m\u001b[0m\n\u001b[0m",
            "\u001b[0;32m<ipython-input-164-04720675ce56>\u001b[0m in \u001b[0;36mcalculate\u001b[0;34m(list)\u001b[0m\n\u001b[1;32m      1\u001b[0m \u001b[0;32mdef\u001b[0m \u001b[0mcalculate\u001b[0m\u001b[0;34m(\u001b[0m\u001b[0mlist\u001b[0m\u001b[0;34m)\u001b[0m\u001b[0;34m:\u001b[0m\u001b[0;34m\u001b[0m\u001b[0;34m\u001b[0m\u001b[0m\n\u001b[0;32m----> 2\u001b[0;31m   \u001b[0marray\u001b[0m \u001b[0;34m=\u001b[0m  \u001b[0mnp\u001b[0m\u001b[0;34m.\u001b[0m\u001b[0marray\u001b[0m\u001b[0;34m(\u001b[0m\u001b[0mlist\u001b[0m\u001b[0;34m)\u001b[0m\u001b[0;34m.\u001b[0m\u001b[0mreshape\u001b[0m\u001b[0;34m(\u001b[0m\u001b[0;36m3\u001b[0m\u001b[0;34m,\u001b[0m\u001b[0;36m3\u001b[0m\u001b[0;34m)\u001b[0m\u001b[0;34m\u001b[0m\u001b[0;34m\u001b[0m\u001b[0m\n\u001b[0m\u001b[1;32m      3\u001b[0m   \u001b[0;32mif\u001b[0m \u001b[0mlen\u001b[0m\u001b[0;34m(\u001b[0m\u001b[0mlist\u001b[0m\u001b[0;34m)\u001b[0m \u001b[0;34m==\u001b[0m \u001b[0;36m9\u001b[0m\u001b[0;34m:\u001b[0m\u001b[0;34m\u001b[0m\u001b[0;34m\u001b[0m\u001b[0m\n\u001b[1;32m      4\u001b[0m     return {'mean': [array.mean(axis=0), array.mean(axis=1), array.mean()],\n\u001b[1;32m      5\u001b[0m               \u001b[0;34m'Variance'\u001b[0m\u001b[0;34m:\u001b[0m \u001b[0;34m[\u001b[0m\u001b[0marray\u001b[0m\u001b[0;34m.\u001b[0m\u001b[0mvar\u001b[0m\u001b[0;34m(\u001b[0m\u001b[0maxis\u001b[0m\u001b[0;34m=\u001b[0m\u001b[0;36m0\u001b[0m\u001b[0;34m)\u001b[0m\u001b[0;34m,\u001b[0m \u001b[0marray\u001b[0m\u001b[0;34m.\u001b[0m\u001b[0mvar\u001b[0m\u001b[0;34m(\u001b[0m\u001b[0maxis\u001b[0m\u001b[0;34m=\u001b[0m\u001b[0;36m1\u001b[0m\u001b[0;34m)\u001b[0m\u001b[0;34m,\u001b[0m \u001b[0marray\u001b[0m\u001b[0;34m.\u001b[0m\u001b[0mvar\u001b[0m\u001b[0;34m(\u001b[0m\u001b[0;34m)\u001b[0m\u001b[0;34m]\u001b[0m\u001b[0;34m,\u001b[0m\u001b[0;34m\u001b[0m\u001b[0;34m\u001b[0m\u001b[0m\n",
            "\u001b[0;31mValueError\u001b[0m: cannot reshape array of size 10 into shape (3,3)"
          ]
        }
      ]
    },
    {
      "cell_type": "code",
      "source": [
        "def tes(list): # i made this test to add the conditional to see if the list is masde out of 9 value sif its not the program will return a error\n",
        "  if  len(list) == 9 : # i got to change the   list.count() == 9 : because ww need to know the total value and we do that with the len function\n",
        "    return list, 'pass'\n",
        "  else  :\n",
        "    return'list is not 9 values'"
      ],
      "metadata": {
        "id": "OKMxWv_wZSkE"
      },
      "execution_count": null,
      "outputs": []
    },
    {
      "cell_type": "code",
      "source": [
        "tes([2,6,2,8,4,0,1,5,7])"
      ],
      "metadata": {
        "colab": {
          "base_uri": "https://localhost:8080/"
        },
        "id": "Lt5WbsLIaSvU",
        "outputId": "bbebd62b-fead-4e4f-a83d-e15333846dd8"
      },
      "execution_count": null,
      "outputs": [
        {
          "output_type": "execute_result",
          "data": {
            "text/plain": [
              "([2, 6, 2, 8, 4, 0, 1, 5, 7], 'pass')"
            ]
          },
          "metadata": {},
          "execution_count": 148
        }
      ]
    },
    {
      "cell_type": "code",
      "source": [
        "lista = ([2,6,2,8,4,0,1,5,7])\n",
        "X =  np.array(lista).reshape(3,3)\n"
      ],
      "metadata": {
        "colab": {
          "base_uri": "https://localhost:8080/",
          "height": 207
        },
        "id": "AOCfvCticBbk",
        "outputId": "6f934039-769f-4d41-e05f-06fae2f34627"
      },
      "execution_count": null,
      "outputs": [
        {
          "output_type": "error",
          "ename": "AttributeError",
          "evalue": "ignored",
          "traceback": [
            "\u001b[0;31m---------------------------------------------------------------------------\u001b[0m",
            "\u001b[0;31mAttributeError\u001b[0m                            Traceback (most recent call last)",
            "\u001b[0;32m<ipython-input-144-f908f5c02f8b>\u001b[0m in \u001b[0;36m<module>\u001b[0;34m\u001b[0m\n\u001b[1;32m      1\u001b[0m \u001b[0mlista\u001b[0m \u001b[0;34m=\u001b[0m \u001b[0;34m(\u001b[0m\u001b[0;34m[\u001b[0m\u001b[0;36m2\u001b[0m\u001b[0;34m,\u001b[0m\u001b[0;36m6\u001b[0m\u001b[0;34m,\u001b[0m\u001b[0;36m2\u001b[0m\u001b[0;34m,\u001b[0m\u001b[0;36m8\u001b[0m\u001b[0;34m,\u001b[0m\u001b[0;36m4\u001b[0m\u001b[0;34m,\u001b[0m\u001b[0;36m0\u001b[0m\u001b[0;34m,\u001b[0m\u001b[0;36m1\u001b[0m\u001b[0;34m,\u001b[0m\u001b[0;36m5\u001b[0m\u001b[0;34m,\u001b[0m\u001b[0;36m7\u001b[0m\u001b[0;34m]\u001b[0m\u001b[0;34m)\u001b[0m\u001b[0;34m\u001b[0m\u001b[0;34m\u001b[0m\u001b[0m\n\u001b[1;32m      2\u001b[0m \u001b[0mX\u001b[0m \u001b[0;34m=\u001b[0m  \u001b[0mnp\u001b[0m\u001b[0;34m.\u001b[0m\u001b[0marray\u001b[0m\u001b[0;34m(\u001b[0m\u001b[0mlista\u001b[0m\u001b[0;34m)\u001b[0m\u001b[0;34m.\u001b[0m\u001b[0mreshape\u001b[0m\u001b[0;34m(\u001b[0m\u001b[0;36m3\u001b[0m\u001b[0;34m,\u001b[0m\u001b[0;36m3\u001b[0m\u001b[0;34m)\u001b[0m\u001b[0;34m\u001b[0m\u001b[0;34m\u001b[0m\u001b[0m\n\u001b[0;32m----> 3\u001b[0;31m \u001b[0mlista\u001b[0m\u001b[0;34m.\u001b[0m\u001b[0mlen\u001b[0m\u001b[0;34m(\u001b[0m\u001b[0;34m)\u001b[0m\u001b[0;34m\u001b[0m\u001b[0;34m\u001b[0m\u001b[0m\n\u001b[0m",
            "\u001b[0;31mAttributeError\u001b[0m: 'list' object has no attribute 'len'"
          ]
        }
      ]
    },
    {
      "cell_type": "code",
      "source": [],
      "metadata": {
        "id": "hVVy8zCzdmsd"
      },
      "execution_count": null,
      "outputs": []
    }
  ]
}